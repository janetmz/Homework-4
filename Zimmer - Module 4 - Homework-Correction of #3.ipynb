{
 "cells": [
  {
   "cell_type": "markdown",
   "metadata": {},
   "source": [
    "### Exercise 1: \n",
    "\n",
    "Review the code in the following cell. This programmer was attempting to create a list of numbers and a list of even numbers between two values given by a user. The numbers list should include all numbers, and the evens list should include only even numbers. Use what you learned in Module 4 to fix the code and run it successfully!"
   ]
  },
  {
   "cell_type": "code",
   "execution_count": 4,
   "metadata": {},
   "outputs": [
    {
     "name": "stdout",
     "output_type": "stream",
     "text": [
      "Enter a starting number: 1\n",
      "Enter an ending number: 15\n",
      "The number list is : [1, 2, 3, 4, 5, 6, 7, 8, 9, 10, 11, 12, 13, 14]\n",
      "The list of even numbers is: [2, 4, 6, 8, 10, 12, 14]\n"
     ]
    }
   ],
   "source": [
    "#get starting and ending numbers from the user\n",
    "no1 = int(input(\"Enter a starting number: \"))\n",
    "no2 =  int(input(\"Enter an ending number: \"))\n",
    "\n",
    "#create two empty lists\n",
    "numbers = []\n",
    "evens = []\n",
    "\n",
    "#function for putting values in the two lists\n",
    "for i in range(no1, no2) :\n",
    "    numbers.append(i)  # all numbers\n",
    "    if (i % 2 == 0):     # even numbers\n",
    "        evens.append(i)\n",
    "\n",
    "# print out the contents of two lists\n",
    "print (f\"The number list is : {numbers}\")\n",
    "print (f\"The list of even numbers is: {evens}\")"
   ]
  },
  {
   "cell_type": "markdown",
   "metadata": {},
   "source": [
    "### Exercise 2:\n",
    "\n",
    "Define a function called <b>draw_triangle()</b> to draw a right triangle where the base of the triangle is the number given by a user and the rest of the triangle builds to the base value. Use the function to show that it works. \n",
    "\n",
    "e.g. <b>draw_triangle(7)</b> draws as below:\n",
    "\n",
    "    *\n",
    "    **\n",
    "    ***\n",
    "    ****\n",
    "    *****\n",
    "    ******\n",
    "    *******\n"
   ]
  },
  {
   "cell_type": "code",
   "execution_count": 1,
   "metadata": {},
   "outputs": [
    {
     "name": "stdout",
     "output_type": "stream",
     "text": [
      "Enter a number: 10\n",
      "*\n",
      "**\n",
      "***\n",
      "****\n",
      "*****\n",
      "******\n",
      "*******\n",
      "********\n",
      "*********\n"
     ]
    }
   ],
   "source": [
    "### finish the code below ###\n",
    "\n",
    "def draw_triangle(x):\n",
    "    for num in range (1,x):\n",
    "        print (\"*\" * num)\n",
    "base = int(input(\"Enter a number: \"))\n",
    "draw_triangle(base)"
   ]
  },
  {
   "cell_type": "markdown",
   "metadata": {},
   "source": [
    "### Exercise 3:\n",
    "\n",
    "A furniture store organizes all items by the section of the store they are stored in. Each section has a number cooresponding to that section. A new branch of the furniture store is opening up, and it's up to you to quickly organize the merchandise into different sections. Create a list of numbers ranging from 1 - 5. Create a list of any three furniture items (i.e. table, lamp, etc). \n",
    "\n",
    "Using a for-loop, return a list of furniture items. Next to each furniture item should be the number of the section of the store the furniture item should be stored (i.e. 3 table, 3 lamp, 3 chair)."
   ]
  },
  {
   "cell_type": "code",
   "execution_count": 41,
   "metadata": {},
   "outputs": [
    {
     "name": "stdout",
     "output_type": "stream",
     "text": [
      "['sofa', '-', 1, 'hassock', '-', 1, 'love seat', '-', 1]\n",
      "['sofa', '-', 2, 'hassock', '-', 2, 'love seat', '-', 2]\n",
      "['sofa', '-', 3, 'hassock', '-', 3, 'love seat', '-', 3]\n",
      "['sofa', '-', 4, 'hassock', '-', 4, 'love seat', '-', 4]\n",
      "['sofa', '-', 5, 'hassock', '-', 5, 'love seat', '-', 5]\n"
     ]
    }
   ],
   "source": [
    "#Corrected version (I hope)\n",
    "#Create a list of numbers ranging from 1 - 5. \n",
    "#Create a list of any three furniture items (i.e. table, lamp, etc). \n",
    "#Using a for-loop, return a list of furniture items. \n",
    "#Associate a section number with each item\n",
    "\n",
    "# Fill the number list\n",
    "section = [1,2,3,4,5]\n",
    "# Fill the furniture list \n",
    "furniture = [\"sofa\", \"hassock\", \"love seat\"]\n",
    "output_list = []\n",
    "#loop over the numbers in section and pick out the funiture item that belongs with that section/index value\n",
    "for y in section:\n",
    "    for item in furniture:\n",
    "        output_list.append (item)\n",
    "        output_list.append (\"-\")\n",
    "        output_list.append (y)      \n",
    "    print (output_list)\n",
    "    output_list=[]\n",
    "\n",
    "#        print (item, \"-\",y)\n",
    "#        print (f\"{item} - {y}end=' '\")\n"
   ]
  },
  {
   "cell_type": "markdown",
   "metadata": {},
   "source": [
    "### Exercise 4:\n",
    "\n",
    "What is the highest value \"a\" can be for the following code to return a value of \"3\"?"
   ]
  },
  {
   "cell_type": "code",
   "execution_count": 6,
   "metadata": {},
   "outputs": [
    {
     "name": "stdout",
     "output_type": "stream",
     "text": [
      "If a is 0 the ouput is  3\n",
      "If a is 1 the ouput is  3\n",
      "If a is 2 the ouput is  3\n",
      "If a is 3 the ouput is  3\n",
      "If a is 4 the ouput is  3\n",
      "If a is 5 the ouput is  3\n",
      "a is now out of range\n"
     ]
    }
   ],
   "source": [
    "###\n",
    "x = 0\n",
    "a = 0\n",
    "b = 5\n",
    "for a in range (0,10):\n",
    "    if a >= 0:\n",
    "        if b < 0:\n",
    "            x = x + 5\n",
    "        elif a > 5:\n",
    "            x = x + 4\n",
    "            print (\"a is now out of range\")\n",
    "            break\n",
    "        else:\n",
    "            x = x + 3\n",
    "            print (\"If a is\" ,a, \"the ouput is \",x)\n",
    "            a =+1\n",
    "            x = 0\n",
    "    else:\n",
    "            x = x + 2\n",
    "\n"
   ]
  },
  {
   "cell_type": "code",
   "execution_count": null,
   "metadata": {},
   "outputs": [],
   "source": [
    "## The correct answer is 5.\n",
    "## if a >= 0 is assumed will always be true (so the last \"else\" will never be used)\n",
    "    ## if b < 0 is always false because b is set to = 5\n",
    "    ## elif a > 5: if this is true, the result would be 4 (0 + 4)  so the output would not be acceptable. \n",
    "    ## else is true because x = 0 + 3 \n",
    "## else since x = 0, x+2 will never = 3"
   ]
  }
 ],
 "metadata": {
  "kernelspec": {
   "display_name": "Python 3",
   "language": "python",
   "name": "python3"
  },
  "language_info": {
   "codemirror_mode": {
    "name": "ipython",
    "version": 3
   },
   "file_extension": ".py",
   "mimetype": "text/x-python",
   "name": "python",
   "nbconvert_exporter": "python",
   "pygments_lexer": "ipython3",
   "version": "3.8.8"
  }
 },
 "nbformat": 4,
 "nbformat_minor": 4
}
